{
 "cells": [
  {
   "cell_type": "markdown",
   "id": "6fce68dd",
   "metadata": {},
   "source": [
    "# ODDS "
   ]
  },
  {
   "cell_type": "code",
   "execution_count": 1,
   "id": "93b2387b",
   "metadata": {},
   "outputs": [],
   "source": [
    "def prob_to_odds(p):\n",
    "    return p/(1-p)"
   ]
  },
  {
   "cell_type": "code",
   "execution_count": 2,
   "id": "98c50b0b",
   "metadata": {},
   "outputs": [
    {
     "data": {
      "text/plain": [
       "0.4992503748125937"
      ]
     },
     "execution_count": 2,
     "metadata": {},
     "output_type": "execute_result"
    }
   ],
   "source": [
    "prob_to_odds(0.333)"
   ]
  },
  {
   "cell_type": "code",
   "execution_count": 3,
   "id": "34cc2b54",
   "metadata": {},
   "outputs": [],
   "source": [
    "def odds_to_prob(o):\n",
    "    return o/(1+o)"
   ]
  },
  {
   "cell_type": "code",
   "execution_count": 4,
   "id": "bd3e2bd5",
   "metadata": {},
   "outputs": [
    {
     "data": {
      "text/plain": [
       "0.3333333333333333"
      ]
     },
     "execution_count": 4,
     "metadata": {},
     "output_type": "execute_result"
    }
   ],
   "source": [
    "odds_to_prob(1/2)"
   ]
  },
  {
   "cell_type": "code",
   "execution_count": 5,
   "id": "fb9bf40c",
   "metadata": {},
   "outputs": [],
   "source": [
    "p = 1/6"
   ]
  },
  {
   "cell_type": "code",
   "execution_count": 7,
   "id": "f12743cf",
   "metadata": {},
   "outputs": [
    {
     "data": {
      "text/plain": [
       "7.0"
      ]
     },
     "execution_count": 7,
     "metadata": {},
     "output_type": "execute_result"
    }
   ],
   "source": [
    "1/odds_to_prob(p)"
   ]
  },
  {
   "cell_type": "code",
   "execution_count": 8,
   "id": "c36b43c8",
   "metadata": {},
   "outputs": [
    {
     "data": {
      "text/plain": [
       "0.9744"
      ]
     },
     "execution_count": 8,
     "metadata": {},
     "output_type": "execute_result"
    }
   ],
   "source": [
    "1-0.4**4"
   ]
  },
  {
   "cell_type": "markdown",
   "id": "053096c2",
   "metadata": {},
   "source": [
    "# Bayes simple example"
   ]
  },
  {
   "cell_type": "code",
   "execution_count": 9,
   "id": "59c36f42",
   "metadata": {},
   "outputs": [],
   "source": [
    "P_color_blind = 0.0425\n",
    "P_male = 0.5\n",
    "P_female = 0.5\n",
    "P_color_blind_given_male = 0.08\n",
    "\n",
    "P_male_given_color_blind = 0.08*0.5/0.0425"
   ]
  },
  {
   "cell_type": "code",
   "execution_count": 56,
   "id": "b06f5a3c",
   "metadata": {},
   "outputs": [
    {
     "data": {
      "text/plain": [
       "0.9411764705882353"
      ]
     },
     "execution_count": 56,
     "metadata": {},
     "output_type": "execute_result"
    }
   ],
   "source": [
    "P_male_given_color_blind"
   ]
  },
  {
   "cell_type": "code",
   "execution_count": null,
   "id": "94248cfa",
   "metadata": {},
   "outputs": [],
   "source": [
    "## Uzduotis:  Kokia tikimybe, kad asmuo neskirs spalvu, jeigu asmuo yra moteris? "
   ]
  },
  {
   "cell_type": "code",
   "execution_count": null,
   "id": "1dfb53e8",
   "metadata": {},
   "outputs": [],
   "source": [
    "## Sprendimas"
   ]
  },
  {
   "cell_type": "code",
   "execution_count": 57,
   "id": "e8b62a2e",
   "metadata": {},
   "outputs": [
    {
     "data": {
      "text/plain": [
       "0.005000000000000002"
      ]
     },
     "execution_count": 57,
     "metadata": {},
     "output_type": "execute_result"
    }
   ],
   "source": [
    "P_female_given_color_blind = 1 - P_male_given_color_blind\n",
    "\n",
    "P_color_blind_given_female = (P_female_given_color_blind *\n",
    "                              P_color_blind/P_female)\n",
    "\n",
    "P_color_blind_given_female"
   ]
  },
  {
   "cell_type": "markdown",
   "id": "91150eeb",
   "metadata": {},
   "source": [
    "# Naive Bayes pavyzdys"
   ]
  },
  {
   "cell_type": "code",
   "execution_count": 14,
   "id": "3dc05d51",
   "metadata": {},
   "outputs": [],
   "source": [
    "import pandas as pd"
   ]
  },
  {
   "cell_type": "code",
   "execution_count": 17,
   "id": "e36db9d0",
   "metadata": {},
   "outputs": [
    {
     "data": {
      "text/html": [
       "<div>\n",
       "<style scoped>\n",
       "    .dataframe tbody tr th:only-of-type {\n",
       "        vertical-align: middle;\n",
       "    }\n",
       "\n",
       "    .dataframe tbody tr th {\n",
       "        vertical-align: top;\n",
       "    }\n",
       "\n",
       "    .dataframe thead th {\n",
       "        text-align: right;\n",
       "    }\n",
       "</style>\n",
       "<table border=\"1\" class=\"dataframe\">\n",
       "  <thead>\n",
       "    <tr style=\"text-align: right;\">\n",
       "      <th></th>\n",
       "      <th>day</th>\n",
       "      <th>outlook</th>\n",
       "      <th>temp</th>\n",
       "      <th>humidity</th>\n",
       "      <th>wind</th>\n",
       "      <th>play</th>\n",
       "    </tr>\n",
       "  </thead>\n",
       "  <tbody>\n",
       "    <tr>\n",
       "      <th>0</th>\n",
       "      <td>D1</td>\n",
       "      <td>Sunny</td>\n",
       "      <td>Hot</td>\n",
       "      <td>High</td>\n",
       "      <td>Weak</td>\n",
       "      <td>No</td>\n",
       "    </tr>\n",
       "    <tr>\n",
       "      <th>1</th>\n",
       "      <td>D2</td>\n",
       "      <td>Sunny</td>\n",
       "      <td>Hot</td>\n",
       "      <td>High</td>\n",
       "      <td>Strong</td>\n",
       "      <td>No</td>\n",
       "    </tr>\n",
       "    <tr>\n",
       "      <th>2</th>\n",
       "      <td>D3</td>\n",
       "      <td>Overcast</td>\n",
       "      <td>Hot</td>\n",
       "      <td>High</td>\n",
       "      <td>Weak</td>\n",
       "      <td>Yes</td>\n",
       "    </tr>\n",
       "    <tr>\n",
       "      <th>3</th>\n",
       "      <td>D4</td>\n",
       "      <td>Rain</td>\n",
       "      <td>Mild</td>\n",
       "      <td>High</td>\n",
       "      <td>Weak</td>\n",
       "      <td>Yes</td>\n",
       "    </tr>\n",
       "    <tr>\n",
       "      <th>4</th>\n",
       "      <td>D5</td>\n",
       "      <td>Rain</td>\n",
       "      <td>Cool</td>\n",
       "      <td>Normal</td>\n",
       "      <td>Weak</td>\n",
       "      <td>Yes</td>\n",
       "    </tr>\n",
       "    <tr>\n",
       "      <th>5</th>\n",
       "      <td>D6</td>\n",
       "      <td>Rain</td>\n",
       "      <td>Cool</td>\n",
       "      <td>Normal</td>\n",
       "      <td>Strong</td>\n",
       "      <td>No</td>\n",
       "    </tr>\n",
       "    <tr>\n",
       "      <th>6</th>\n",
       "      <td>D7</td>\n",
       "      <td>Overcast</td>\n",
       "      <td>Cool</td>\n",
       "      <td>Normal</td>\n",
       "      <td>Strong</td>\n",
       "      <td>Yes</td>\n",
       "    </tr>\n",
       "    <tr>\n",
       "      <th>7</th>\n",
       "      <td>D8</td>\n",
       "      <td>Sunny</td>\n",
       "      <td>Mild</td>\n",
       "      <td>High</td>\n",
       "      <td>Weak</td>\n",
       "      <td>No</td>\n",
       "    </tr>\n",
       "    <tr>\n",
       "      <th>8</th>\n",
       "      <td>D9</td>\n",
       "      <td>Sunny</td>\n",
       "      <td>Cool</td>\n",
       "      <td>Normal</td>\n",
       "      <td>Weak</td>\n",
       "      <td>Yes</td>\n",
       "    </tr>\n",
       "    <tr>\n",
       "      <th>9</th>\n",
       "      <td>D10</td>\n",
       "      <td>Rain</td>\n",
       "      <td>Mild</td>\n",
       "      <td>Normal</td>\n",
       "      <td>Weak</td>\n",
       "      <td>Yes</td>\n",
       "    </tr>\n",
       "    <tr>\n",
       "      <th>10</th>\n",
       "      <td>D11</td>\n",
       "      <td>Sunny</td>\n",
       "      <td>Mild</td>\n",
       "      <td>Normal</td>\n",
       "      <td>Strong</td>\n",
       "      <td>Yes</td>\n",
       "    </tr>\n",
       "    <tr>\n",
       "      <th>11</th>\n",
       "      <td>D12</td>\n",
       "      <td>Overcast</td>\n",
       "      <td>Mild</td>\n",
       "      <td>High</td>\n",
       "      <td>Strong</td>\n",
       "      <td>Yes</td>\n",
       "    </tr>\n",
       "    <tr>\n",
       "      <th>12</th>\n",
       "      <td>D13</td>\n",
       "      <td>Overcast</td>\n",
       "      <td>Hot</td>\n",
       "      <td>Normal</td>\n",
       "      <td>Weak</td>\n",
       "      <td>Yes</td>\n",
       "    </tr>\n",
       "    <tr>\n",
       "      <th>13</th>\n",
       "      <td>D14</td>\n",
       "      <td>Rain</td>\n",
       "      <td>Mild</td>\n",
       "      <td>High</td>\n",
       "      <td>Strong</td>\n",
       "      <td>No</td>\n",
       "    </tr>\n",
       "  </tbody>\n",
       "</table>\n",
       "</div>"
      ],
      "text/plain": [
       "    day   outlook  temp humidity    wind play\n",
       "0    D1     Sunny   Hot     High    Weak   No\n",
       "1    D2     Sunny   Hot     High  Strong   No\n",
       "2    D3  Overcast   Hot     High    Weak  Yes\n",
       "3    D4      Rain  Mild     High    Weak  Yes\n",
       "4    D5      Rain  Cool   Normal    Weak  Yes\n",
       "5    D6      Rain  Cool   Normal  Strong   No\n",
       "6    D7  Overcast  Cool   Normal  Strong  Yes\n",
       "7    D8     Sunny  Mild     High    Weak   No\n",
       "8    D9     Sunny  Cool   Normal    Weak  Yes\n",
       "9   D10      Rain  Mild   Normal    Weak  Yes\n",
       "10  D11     Sunny  Mild   Normal  Strong  Yes\n",
       "11  D12  Overcast  Mild     High  Strong  Yes\n",
       "12  D13  Overcast   Hot   Normal    Weak  Yes\n",
       "13  D14      Rain  Mild     High  Strong   No"
      ]
     },
     "execution_count": 17,
     "metadata": {},
     "output_type": "execute_result"
    }
   ],
   "source": [
    "df = pd.read_csv('play_tennis.csv')\n",
    "df "
   ]
  },
  {
   "cell_type": "code",
   "execution_count": null,
   "id": "da36cd8d",
   "metadata": {},
   "outputs": [],
   "source": [
    "# 1. Uzdavinys. \n",
    "# Norime sukurti modeli, kuris leistu prognozuoti, ar zaisti, ar nezaisti tenisa, jeigu zinome, koks yra oras (outlook)"
   ]
  },
  {
   "cell_type": "code",
   "execution_count": 58,
   "id": "1546d639",
   "metadata": {},
   "outputs": [],
   "source": [
    "# sukurkime paprasta modeli, kuris remiasi tik vienu stulpeliu = outlook."
   ]
  },
  {
   "cell_type": "code",
   "execution_count": 59,
   "id": "c218efc2",
   "metadata": {},
   "outputs": [],
   "source": [
    "wheather = df.groupby(['outlook', 'play']).day.count().unstack().fillna(0)"
   ]
  },
  {
   "cell_type": "code",
   "execution_count": 60,
   "id": "a840af69",
   "metadata": {},
   "outputs": [
    {
     "data": {
      "text/html": [
       "<div>\n",
       "<style scoped>\n",
       "    .dataframe tbody tr th:only-of-type {\n",
       "        vertical-align: middle;\n",
       "    }\n",
       "\n",
       "    .dataframe tbody tr th {\n",
       "        vertical-align: top;\n",
       "    }\n",
       "\n",
       "    .dataframe thead th {\n",
       "        text-align: right;\n",
       "    }\n",
       "</style>\n",
       "<table border=\"1\" class=\"dataframe\">\n",
       "  <thead>\n",
       "    <tr style=\"text-align: right;\">\n",
       "      <th>play</th>\n",
       "      <th>No</th>\n",
       "      <th>Yes</th>\n",
       "    </tr>\n",
       "    <tr>\n",
       "      <th>outlook</th>\n",
       "      <th></th>\n",
       "      <th></th>\n",
       "    </tr>\n",
       "  </thead>\n",
       "  <tbody>\n",
       "    <tr>\n",
       "      <th>Overcast</th>\n",
       "      <td>0.0</td>\n",
       "      <td>4.0</td>\n",
       "    </tr>\n",
       "    <tr>\n",
       "      <th>Rain</th>\n",
       "      <td>2.0</td>\n",
       "      <td>3.0</td>\n",
       "    </tr>\n",
       "    <tr>\n",
       "      <th>Sunny</th>\n",
       "      <td>3.0</td>\n",
       "      <td>2.0</td>\n",
       "    </tr>\n",
       "  </tbody>\n",
       "</table>\n",
       "</div>"
      ],
      "text/plain": [
       "play       No  Yes\n",
       "outlook           \n",
       "Overcast  0.0  4.0\n",
       "Rain      2.0  3.0\n",
       "Sunny     3.0  2.0"
      ]
     },
     "execution_count": 60,
     "metadata": {},
     "output_type": "execute_result"
    }
   ],
   "source": [
    "wheather"
   ]
  },
  {
   "cell_type": "code",
   "execution_count": 92,
   "id": "c2003bcf",
   "metadata": {},
   "outputs": [
    {
     "data": {
      "text/plain": [
       "1.0"
      ]
     },
     "execution_count": 92,
     "metadata": {},
     "output_type": "execute_result"
    }
   ],
   "source": [
    "P_play_given_overcast = (4/9)*(9/14)/(4/14)\n",
    "P_play_given_overcast"
   ]
  },
  {
   "cell_type": "code",
   "execution_count": 61,
   "id": "523283d5",
   "metadata": {},
   "outputs": [
    {
     "data": {
      "text/plain": [
       "0.6"
      ]
     },
     "execution_count": 61,
     "metadata": {},
     "output_type": "execute_result"
    }
   ],
   "source": [
    "P_rain_given_play = 3/9\n",
    "P_play_yes = 9/14\n",
    "P_rain = 5/14\n",
    "P_play_given_rain = P_rain_given_play * P_play_yes/P_rain\n",
    "P_play_given_rain"
   ]
  },
  {
   "cell_type": "code",
   "execution_count": 62,
   "id": "3976cf79",
   "metadata": {},
   "outputs": [
    {
     "data": {
      "text/plain": [
       "0.39999999999999997"
      ]
     },
     "execution_count": 62,
     "metadata": {},
     "output_type": "execute_result"
    }
   ],
   "source": [
    "P_sunny_given_play = 2/9\n",
    "P_play_yes = 9/14\n",
    "P_sunny = 5/14\n",
    "P_play_given_sunny = P_sunny_given_play * P_play_yes/P_sunny\n",
    "P_play_given_sunny"
   ]
  },
  {
   "cell_type": "code",
   "execution_count": null,
   "id": "78e6deac",
   "metadata": {},
   "outputs": [],
   "source": [
    "## suskaiciuotomis tikimybemis galime sukurti paprasta modeli\n",
    "def play_or_not(outlook):\n",
    "    if outlook == \"Overcast\":\n",
    "        play_probability = 1\n",
    "    elif outlook == \"Rain\":\n",
    "        play_probability = 0.6\n",
    "    elif outlook == \"Sunny\":\n",
    "        play_probability = 0.4\n",
    "    return round(play_probability)"
   ]
  },
  {
   "cell_type": "code",
   "execution_count": null,
   "id": "678f0a2c",
   "metadata": {},
   "outputs": [],
   "source": [
    "# apibendrinkite ir atlikite uzduoti"
   ]
  },
  {
   "cell_type": "code",
   "execution_count": 63,
   "id": "57655a16",
   "metadata": {},
   "outputs": [],
   "source": [
    "# 2 uzdaviniai\n",
    "# 1. perrasyti funkcija play_or_not, kad jinai tenkintu 2 salygas: \n",
    "#.   A. funkcija perskaiciuotu tikimybes, duotam dataframei (reiskia, kad pridejus nauju eiluciu modelis atsinaujins)\n",
    "#.   B. butu stulpelio parametras, kuris grazintu to modelio, kurio stulpelio parametra pateikeme rezultatus    \n",
    "\n",
    "\n",
    "def play_or_not(df: pd.DataFrame, column_name: str) -> float:\n",
    "    play_probability = 1.0\n",
    "    # reikia parasyti koda\n",
    "    return play_probability\n",
    "\n",
    "\n",
    "\n",
    "### ATSAKYMAS ####\n",
    "def play_or_not(dataframe: pd.DataFrame, \n",
    "                col_name: str) -> float:\n",
    "    map_dict = {}\n",
    "    temp_df = dataframe.groupby([str(col_name),'play'])['day'].count().unstack().fillna(0)\n",
    "    for i in list(temp_df.index):\n",
    "        P_fact_given_play = (temp_df.loc[i,:]/temp_df['Yes'].sum())\n",
    "        P_play = temp_df['Yes'].sum() / temp_df.sum().sum()\n",
    "        P_fact = temp_df.loc[i,:].sum() / temp_df.sum().sum()\n",
    "        play_probability = P_fact_given_play * P_play / P_fact\n",
    "        map_dict[i] = play_probability['Yes']\n",
    "    return map_dict\n"
   ]
  },
  {
   "cell_type": "code",
   "execution_count": null,
   "id": "4be40641",
   "metadata": {},
   "outputs": [],
   "source": [
    "# Naive Bayes remiasi prielaida, kad ivvykai yra nesusije, todel galime atlikti tikimybiu atskyrima"
   ]
  },
  {
   "cell_type": "code",
   "execution_count": 47,
   "id": "cfd438dd",
   "metadata": {},
   "outputs": [],
   "source": [
    "## Formule\n",
    "\n",
    "# P(y=Yes|x) = P(Yes|Rainy,Mild,Normal,Strong)\n",
    "\n",
    "\n",
    "    #          P(Rainy,Mild,Normal,Strong|Yes) * P(Yes)\n",
    "    #        = ___________________________________\n",
    "    #                 P(Rainy,Mild,Normal,Strong)\n",
    "\n",
    "            \n",
    "    #          P(Rainy|Yes)*P(Mild|Yes)*P(Normal|Yes)*P(Strong|Yes)*P(Yes)\n",
    "    #        = ______________________________________________________\n",
    "    #                     P(Rainy)*P(Mild)*P(Normal)*P(Strong)"
   ]
  },
  {
   "cell_type": "code",
   "execution_count": 64,
   "id": "5c1e569d",
   "metadata": {},
   "outputs": [],
   "source": [
    "# parasykite funkcija naive bayes model remdamiesi auksciau esancia formule ir play_or_not funkcija"
   ]
  },
  {
   "cell_type": "code",
   "execution_count": 65,
   "id": "46ec8b49",
   "metadata": {},
   "outputs": [],
   "source": [
    "def naive_bayes_model(df, wheather_conditions = [\"Sunny\", \"Hot\", \"High\", \"Weak\"]):\n",
    "#     wheather_conditions\n",
    "    play_probability = 1.0\n",
    "        # P(y=Yes|x) = P(Yes|Rainy,Mild,Normal,Strong)\n",
    "\n",
    "\n",
    "            #          P(Rainy,Mild,Normal,Strong|Yes) * P(Yes)\n",
    "            #        = ___________________________________\n",
    "            #                 P(Rainy,Mild,Normal,Strong)\n",
    "\n",
    "\n",
    "            #          P(Rainy|Yes)*P(Mild|Yes)*P(Normal|Yes)*P(Strong|Yes)*P(Yes)\n",
    "            #        = ______________________________________________________\n",
    "            #                     P(Rainy)*P(Mild)*P(Normal)*P(Strong)\n",
    "    return play_probability"
   ]
  },
  {
   "cell_type": "code",
   "execution_count": 138,
   "id": "433b78b8",
   "metadata": {},
   "outputs": [],
   "source": [
    "def play_or_not_prob(dataframe: pd.DataFrame, \n",
    "                col_name: str) -> float:\n",
    "    map_dict = {}\n",
    "    temp_df = dataframe.groupby([str(col_name),'play'])['day'].count().unstack().fillna(0)\n",
    "    for i in list(temp_df.index):\n",
    "        P_fact_given_play = (temp_df.loc[i,:]/temp_df['Yes'].sum())\n",
    "        P_play = temp_df['Yes'].sum() / temp_df.sum().sum()\n",
    "        P_fact = temp_df.loc[i,:].sum() / temp_df.sum().sum()\n",
    "#         print(P_fact_given_play['Yes'], P_play, P_fact)\n",
    "        play_probability = P_fact_given_play['Yes'] * P_play / P_fact\n",
    "#         print(play_probability)\n",
    "        map_dict[i] = [P_fact_given_play['Yes'], P_fact, P_play]\n",
    "    return map_dict"
   ]
  },
  {
   "cell_type": "code",
   "execution_count": 139,
   "id": "48197900",
   "metadata": {},
   "outputs": [],
   "source": [
    "feature_columns = ['outlook', 'temp', 'humidity', 'wind']"
   ]
  },
  {
   "cell_type": "code",
   "execution_count": 140,
   "id": "7fa14dd7",
   "metadata": {},
   "outputs": [
    {
     "data": {
      "text/plain": [
       "{'Overcast': [0.4444444444444444, 0.2857142857142857, 0.6428571428571429],\n",
       " 'Rain': [0.3333333333333333, 0.35714285714285715, 0.6428571428571429],\n",
       " 'Sunny': [0.2222222222222222, 0.35714285714285715, 0.6428571428571429]}"
      ]
     },
     "execution_count": 140,
     "metadata": {},
     "output_type": "execute_result"
    }
   ],
   "source": [
    "play_or_not_prob(df, \"outlook\")"
   ]
  },
  {
   "cell_type": "code",
   "execution_count": 147,
   "id": "e0f46e10",
   "metadata": {},
   "outputs": [
    {
     "data": {
      "text/plain": [
       "{'Cool': [0.3333333333333333, 0.2857142857142857, 0.6428571428571429],\n",
       " 'Hot': [0.2222222222222222, 0.2857142857142857, 0.6428571428571429],\n",
       " 'Mild': [0.4444444444444444, 0.42857142857142855, 0.6428571428571429]}"
      ]
     },
     "execution_count": 147,
     "metadata": {},
     "output_type": "execute_result"
    }
   ],
   "source": [
    "play_or_not_prob(df, \"temp\")"
   ]
  },
  {
   "cell_type": "code",
   "execution_count": 148,
   "id": "c37ef989",
   "metadata": {},
   "outputs": [
    {
     "data": {
      "text/plain": [
       "{'High': [0.3333333333333333, 0.5, 0.6428571428571429],\n",
       " 'Normal': [0.6666666666666666, 0.5, 0.6428571428571429]}"
      ]
     },
     "execution_count": 148,
     "metadata": {},
     "output_type": "execute_result"
    }
   ],
   "source": [
    "play_or_not_prob(df, \"humidity\")"
   ]
  },
  {
   "cell_type": "code",
   "execution_count": 149,
   "id": "a79cc093",
   "metadata": {},
   "outputs": [
    {
     "data": {
      "text/plain": [
       "{'Strong': [0.3333333333333333, 0.42857142857142855, 0.6428571428571429],\n",
       " 'Weak': [0.6666666666666666, 0.5714285714285714, 0.6428571428571429]}"
      ]
     },
     "execution_count": 149,
     "metadata": {},
     "output_type": "execute_result"
    }
   ],
   "source": [
    "play_or_not_prob(df, \"wind\")"
   ]
  },
  {
   "cell_type": "code",
   "execution_count": 141,
   "id": "a69db03d",
   "metadata": {},
   "outputs": [],
   "source": [
    "import numpy as np"
   ]
  },
  {
   "cell_type": "code",
   "execution_count": 150,
   "id": "cda3078f",
   "metadata": {},
   "outputs": [
    {
     "data": {
      "text/plain": [
       "['outlook', 'temp', 'humidity', 'wind']"
      ]
     },
     "execution_count": 150,
     "metadata": {},
     "output_type": "execute_result"
    }
   ],
   "source": [
    "feature_columns"
   ]
  },
  {
   "cell_type": "code",
   "execution_count": 151,
   "id": "0a07a18f",
   "metadata": {},
   "outputs": [],
   "source": [
    "def naive_bayes_model(df, wheather_conditions = [\"Sunny\", \"Hot\", \"High\", \"Weak\"]):\n",
    "    probs_top = []\n",
    "    probs_botom = []\n",
    "    \n",
    "    for col, val in zip(feature_columns, wheather_conditions):\n",
    "        top, botom, _ = play_or_not_prob(df, col)[val]\n",
    "        probs_top.append(top)\n",
    "        probs_botom.append(botom)\n",
    "    result = _*np.prod(probs_top)/np.prod(probs_botom)\n",
    "    return result\n",
    "        "
   ]
  },
  {
   "cell_type": "code",
   "execution_count": 152,
   "id": "7dbedbb5",
   "metadata": {},
   "outputs": [
    {
     "data": {
      "text/plain": [
       "0.24197530864197528"
      ]
     },
     "execution_count": 152,
     "metadata": {},
     "output_type": "execute_result"
    }
   ],
   "source": [
    "naive_bayes_model(df)"
   ]
  },
  {
   "cell_type": "code",
   "execution_count": null,
   "id": "2c2f5774",
   "metadata": {},
   "outputs": [],
   "source": []
  }
 ],
 "metadata": {
  "kernelspec": {
   "display_name": "Python 3 (ipykernel)",
   "language": "python",
   "name": "python3"
  },
  "language_info": {
   "codemirror_mode": {
    "name": "ipython",
    "version": 3
   },
   "file_extension": ".py",
   "mimetype": "text/x-python",
   "name": "python",
   "nbconvert_exporter": "python",
   "pygments_lexer": "ipython3",
   "version": "3.9.2"
  }
 },
 "nbformat": 4,
 "nbformat_minor": 5
}
